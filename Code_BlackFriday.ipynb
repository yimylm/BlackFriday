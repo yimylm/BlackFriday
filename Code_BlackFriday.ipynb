{
 "cells": [
  {
   "cell_type": "markdown",
   "metadata": {},
   "source": [
    "# Report 黑色星期五销售情况分析"
   ]
  },
  {
   "cell_type": "markdown",
   "metadata": {},
   "source": [
    "### 项目背景"
   ]
  },
  {
   "cell_type": "markdown",
   "metadata": {},
   "source": [
    "- 美国圣诞节大采购一般是从感恩节之后开始的，11月的第四个星期五是美国人大采购的第一天。\n",
    "- 在这一天，美国的商场都会推出大量的打折和优惠活动，以在年底进行最后一次大规模的促销。\n",
    "- 因为美国的商场一般以红色记录赤字，以黑色记录盈利，而感恩节后的这个星期五，人们疯狂地抢购使得商场利润大增，因此被商家们称作黑色星期五。\n",
    "- 本次数据分析所用的数据集是零售商店中黑色星期五的交易样本数据，商店希望更加了解用户购买行为。所以本文通过总结本次“黑五”销售状况，分析和研究不同用户对不同产品的购买行为来为下一次“黑五”提供相关情报和参考，给出有用的建议。"
   ]
  },
  {
   "cell_type": "markdown",
   "metadata": {},
   "source": [
    "### 目的"
   ]
  },
  {
   "cell_type": "markdown",
   "metadata": {},
   "source": [
    "本项目主要解答以下问题：\n",
    "- 本次黑色星期五该零售商店整体销售状况统计；\n",
    "- 不同商品在本次黑色星期五中的销售表现，畅销的产品、畅销产品分类是什么？\n",
    "- 用户画像分析，探究用户基本特征（包括性别、年龄、婚姻状况、职业等）与销售的关系；\n",
    "- 城市业绩分析，不同城市用户画像有何差别？"
   ]
  },
  {
   "cell_type": "markdown",
   "metadata": {},
   "source": [
    "### 数据准备"
   ]
  },
  {
   "cell_type": "markdown",
   "metadata": {},
   "source": [
    "此处的数据集是从Kaggle网站上获取的CSV数据，是零售商店中进行的交易的样本。"
   ]
  },
  {
   "cell_type": "code",
   "execution_count": 1,
   "metadata": {},
   "outputs": [],
   "source": [
    "#加载库\n",
    "import pandas as pd\n",
    "import numpy as np\n",
    "import matplotlib.pyplot as plt\n",
    "import seaborn as sns\n",
    "%matplotlib inline\n",
    "plt.style.use('ggplot')\n",
    "plt.rcParams['font.sans-serif'] = ['SimHei']\n",
    "plt.rcParams['axes.unicode_minus']=False\n",
    "sns.set_style({'font.sans-serif':['simhei','Arial']})"
   ]
  },
  {
   "cell_type": "code",
   "execution_count": 2,
   "metadata": {
    "scrolled": false
   },
   "outputs": [
    {
     "name": "stdout",
     "output_type": "stream",
     "text": [
      "<class 'pandas.core.frame.DataFrame'>\n",
      "RangeIndex: 537577 entries, 0 to 537576\n",
      "Data columns (total 12 columns):\n",
      "User_ID                       537577 non-null int64\n",
      "Product_ID                    537577 non-null object\n",
      "Gender                        537577 non-null object\n",
      "Age                           537577 non-null object\n",
      "Occupation                    537577 non-null int64\n",
      "City_Category                 537577 non-null object\n",
      "Stay_In_Current_City_Years    537577 non-null object\n",
      "Marital_Status                537577 non-null int64\n",
      "Product_Category_1            537577 non-null int64\n",
      "Product_Category_2            370591 non-null float64\n",
      "Product_Category_3            164278 non-null float64\n",
      "Purchase                      537577 non-null int64\n",
      "dtypes: float64(2), int64(5), object(5)\n",
      "memory usage: 49.2+ MB\n"
     ]
    }
   ],
   "source": [
    "#加载csv数据\n",
    "df = pd.read_csv('BlackFriday.csv')\n",
    "#初步观察数据情况\n",
    "df.info()"
   ]
  },
  {
   "cell_type": "code",
   "execution_count": 3,
   "metadata": {},
   "outputs": [
    {
     "name": "stdout",
     "output_type": "stream",
     "text": [
      "<class 'pandas.core.frame.DataFrame'>\n",
      "RangeIndex: 537577 entries, 0 to 537576\n",
      "Data columns (total 12 columns):\n",
      "User_ID                       537577 non-null int64\n",
      "Product_ID                    537577 non-null object\n",
      "Gender                        537577 non-null object\n",
      "Age                           537577 non-null object\n",
      "Occupation                    537577 non-null int64\n",
      "City_Category                 537577 non-null object\n",
      "Stay_In_Current_City_Years    537577 non-null object\n",
      "Marital_Status                537577 non-null int64\n",
      "Product_Category_1            537577 non-null int64\n",
      "Product_Category_2            370591 non-null float64\n",
      "Product_Category_3            164278 non-null float64\n",
      "Purchase                      537577 non-null float64\n",
      "dtypes: float64(3), int64(4), object(5)\n",
      "memory usage: 49.2+ MB\n"
     ]
    }
   ],
   "source": [
    "#数据类型转换 将Purchase列由int转换成float\n",
    "df['Purchase'] = df['Purchase'].astype(float)\n",
    "df.info()"
   ]
  },
  {
   "cell_type": "code",
   "execution_count": 4,
   "metadata": {},
   "outputs": [
    {
     "data": {
      "text/plain": [
       "User_ID                        5891\n",
       "Product_ID                     3623\n",
       "Gender                            2\n",
       "Age                               7\n",
       "Occupation                       21\n",
       "City_Category                     3\n",
       "Stay_In_Current_City_Years        5\n",
       "Marital_Status                    2\n",
       "Product_Category_1               18\n",
       "Product_Category_2               17\n",
       "Product_Category_3               15\n",
       "Purchase                      17959\n",
       "dtype: int64"
      ]
     },
     "execution_count": 4,
     "metadata": {},
     "output_type": "execute_result"
    }
   ],
   "source": [
    "df.nunique()"
   ]
  },
  {
   "cell_type": "code",
   "execution_count": 5,
   "metadata": {},
   "outputs": [
    {
     "data": {
      "text/html": [
       "<div>\n",
       "<style scoped>\n",
       "    .dataframe tbody tr th:only-of-type {\n",
       "        vertical-align: middle;\n",
       "    }\n",
       "\n",
       "    .dataframe tbody tr th {\n",
       "        vertical-align: top;\n",
       "    }\n",
       "\n",
       "    .dataframe thead th {\n",
       "        text-align: right;\n",
       "    }\n",
       "</style>\n",
       "<table border=\"1\" class=\"dataframe\">\n",
       "  <thead>\n",
       "    <tr style=\"text-align: right;\">\n",
       "      <th></th>\n",
       "      <th>User_ID</th>\n",
       "      <th>Product_ID</th>\n",
       "      <th>Gender</th>\n",
       "      <th>Age</th>\n",
       "      <th>Occupation</th>\n",
       "      <th>City_Category</th>\n",
       "      <th>Stay_In_Current_City_Years</th>\n",
       "      <th>Marital_Status</th>\n",
       "      <th>Product_Category_1</th>\n",
       "      <th>Product_Category_2</th>\n",
       "      <th>Product_Category_3</th>\n",
       "      <th>Purchase</th>\n",
       "    </tr>\n",
       "  </thead>\n",
       "  <tbody>\n",
       "    <tr>\n",
       "      <th>0</th>\n",
       "      <td>1000001</td>\n",
       "      <td>P00069042</td>\n",
       "      <td>F</td>\n",
       "      <td>0-17</td>\n",
       "      <td>10</td>\n",
       "      <td>A</td>\n",
       "      <td>2</td>\n",
       "      <td>0</td>\n",
       "      <td>3</td>\n",
       "      <td>NaN</td>\n",
       "      <td>NaN</td>\n",
       "      <td>8370.0</td>\n",
       "    </tr>\n",
       "    <tr>\n",
       "      <th>1</th>\n",
       "      <td>1000001</td>\n",
       "      <td>P00248942</td>\n",
       "      <td>F</td>\n",
       "      <td>0-17</td>\n",
       "      <td>10</td>\n",
       "      <td>A</td>\n",
       "      <td>2</td>\n",
       "      <td>0</td>\n",
       "      <td>1</td>\n",
       "      <td>6.0</td>\n",
       "      <td>14.0</td>\n",
       "      <td>15200.0</td>\n",
       "    </tr>\n",
       "    <tr>\n",
       "      <th>2</th>\n",
       "      <td>1000001</td>\n",
       "      <td>P00087842</td>\n",
       "      <td>F</td>\n",
       "      <td>0-17</td>\n",
       "      <td>10</td>\n",
       "      <td>A</td>\n",
       "      <td>2</td>\n",
       "      <td>0</td>\n",
       "      <td>12</td>\n",
       "      <td>NaN</td>\n",
       "      <td>NaN</td>\n",
       "      <td>1422.0</td>\n",
       "    </tr>\n",
       "    <tr>\n",
       "      <th>3</th>\n",
       "      <td>1000001</td>\n",
       "      <td>P00085442</td>\n",
       "      <td>F</td>\n",
       "      <td>0-17</td>\n",
       "      <td>10</td>\n",
       "      <td>A</td>\n",
       "      <td>2</td>\n",
       "      <td>0</td>\n",
       "      <td>12</td>\n",
       "      <td>14.0</td>\n",
       "      <td>NaN</td>\n",
       "      <td>1057.0</td>\n",
       "    </tr>\n",
       "    <tr>\n",
       "      <th>4</th>\n",
       "      <td>1000002</td>\n",
       "      <td>P00285442</td>\n",
       "      <td>M</td>\n",
       "      <td>55+</td>\n",
       "      <td>16</td>\n",
       "      <td>C</td>\n",
       "      <td>4+</td>\n",
       "      <td>0</td>\n",
       "      <td>8</td>\n",
       "      <td>NaN</td>\n",
       "      <td>NaN</td>\n",
       "      <td>7969.0</td>\n",
       "    </tr>\n",
       "  </tbody>\n",
       "</table>\n",
       "</div>"
      ],
      "text/plain": [
       "   User_ID Product_ID Gender   Age  Occupation City_Category  \\\n",
       "0  1000001  P00069042      F  0-17          10             A   \n",
       "1  1000001  P00248942      F  0-17          10             A   \n",
       "2  1000001  P00087842      F  0-17          10             A   \n",
       "3  1000001  P00085442      F  0-17          10             A   \n",
       "4  1000002  P00285442      M   55+          16             C   \n",
       "\n",
       "  Stay_In_Current_City_Years  Marital_Status  Product_Category_1  \\\n",
       "0                          2               0                   3   \n",
       "1                          2               0                   1   \n",
       "2                          2               0                  12   \n",
       "3                          2               0                  12   \n",
       "4                         4+               0                   8   \n",
       "\n",
       "   Product_Category_2  Product_Category_3  Purchase  \n",
       "0                 NaN                 NaN    8370.0  \n",
       "1                 6.0                14.0   15200.0  \n",
       "2                 NaN                 NaN    1422.0  \n",
       "3                14.0                 NaN    1057.0  \n",
       "4                 NaN                 NaN    7969.0  "
      ]
     },
     "execution_count": 5,
     "metadata": {},
     "output_type": "execute_result"
    }
   ],
   "source": [
    "df.head()"
   ]
  },
  {
   "cell_type": "markdown",
   "metadata": {},
   "source": [
    "该数据集里记录了零售店在黑色星期五的交易记录样本，数据集中共有12个字段，包含537577条数据，5891个不同user_id,3623个不同product_id,,7个年龄段，21种职业，3个城市，18种商品分类的不同维度数据。其中产品分类2、产品分类3两个字段数据存在缺失，无法填补，故不作为此次分析内容。"
   ]
  },
  {
   "cell_type": "code",
   "execution_count": 6,
   "metadata": {},
   "outputs": [],
   "source": [
    "#去除产品分类2、产品分类3\n",
    "df1= df.drop(['Product_Category_2','Product_Category_3'],axis=1)"
   ]
  },
  {
   "cell_type": "code",
   "execution_count": 7,
   "metadata": {},
   "outputs": [
    {
     "data": {
      "text/html": [
       "<div>\n",
       "<style scoped>\n",
       "    .dataframe tbody tr th:only-of-type {\n",
       "        vertical-align: middle;\n",
       "    }\n",
       "\n",
       "    .dataframe tbody tr th {\n",
       "        vertical-align: top;\n",
       "    }\n",
       "\n",
       "    .dataframe thead th {\n",
       "        text-align: right;\n",
       "    }\n",
       "</style>\n",
       "<table border=\"1\" class=\"dataframe\">\n",
       "  <thead>\n",
       "    <tr style=\"text-align: right;\">\n",
       "      <th></th>\n",
       "      <th>User_ID</th>\n",
       "      <th>Product_ID</th>\n",
       "      <th>Gender</th>\n",
       "      <th>Age</th>\n",
       "      <th>Occupation</th>\n",
       "      <th>City_Category</th>\n",
       "      <th>Stay_In_Current_City_Years</th>\n",
       "      <th>Marital_Status</th>\n",
       "      <th>Product_Category_1</th>\n",
       "      <th>Purchase</th>\n",
       "    </tr>\n",
       "  </thead>\n",
       "  <tbody>\n",
       "    <tr>\n",
       "      <th>0</th>\n",
       "      <td>1000001</td>\n",
       "      <td>P00069042</td>\n",
       "      <td>F</td>\n",
       "      <td>0-17</td>\n",
       "      <td>10</td>\n",
       "      <td>A</td>\n",
       "      <td>2</td>\n",
       "      <td>0</td>\n",
       "      <td>3</td>\n",
       "      <td>8370.0</td>\n",
       "    </tr>\n",
       "    <tr>\n",
       "      <th>1</th>\n",
       "      <td>1000001</td>\n",
       "      <td>P00248942</td>\n",
       "      <td>F</td>\n",
       "      <td>0-17</td>\n",
       "      <td>10</td>\n",
       "      <td>A</td>\n",
       "      <td>2</td>\n",
       "      <td>0</td>\n",
       "      <td>1</td>\n",
       "      <td>15200.0</td>\n",
       "    </tr>\n",
       "    <tr>\n",
       "      <th>2</th>\n",
       "      <td>1000001</td>\n",
       "      <td>P00087842</td>\n",
       "      <td>F</td>\n",
       "      <td>0-17</td>\n",
       "      <td>10</td>\n",
       "      <td>A</td>\n",
       "      <td>2</td>\n",
       "      <td>0</td>\n",
       "      <td>12</td>\n",
       "      <td>1422.0</td>\n",
       "    </tr>\n",
       "    <tr>\n",
       "      <th>3</th>\n",
       "      <td>1000001</td>\n",
       "      <td>P00085442</td>\n",
       "      <td>F</td>\n",
       "      <td>0-17</td>\n",
       "      <td>10</td>\n",
       "      <td>A</td>\n",
       "      <td>2</td>\n",
       "      <td>0</td>\n",
       "      <td>12</td>\n",
       "      <td>1057.0</td>\n",
       "    </tr>\n",
       "    <tr>\n",
       "      <th>4</th>\n",
       "      <td>1000002</td>\n",
       "      <td>P00285442</td>\n",
       "      <td>M</td>\n",
       "      <td>55+</td>\n",
       "      <td>16</td>\n",
       "      <td>C</td>\n",
       "      <td>4+</td>\n",
       "      <td>0</td>\n",
       "      <td>8</td>\n",
       "      <td>7969.0</td>\n",
       "    </tr>\n",
       "  </tbody>\n",
       "</table>\n",
       "</div>"
      ],
      "text/plain": [
       "   User_ID Product_ID Gender   Age  Occupation City_Category  \\\n",
       "0  1000001  P00069042      F  0-17          10             A   \n",
       "1  1000001  P00248942      F  0-17          10             A   \n",
       "2  1000001  P00087842      F  0-17          10             A   \n",
       "3  1000001  P00085442      F  0-17          10             A   \n",
       "4  1000002  P00285442      M   55+          16             C   \n",
       "\n",
       "  Stay_In_Current_City_Years  Marital_Status  Product_Category_1  Purchase  \n",
       "0                          2               0                   3    8370.0  \n",
       "1                          2               0                   1   15200.0  \n",
       "2                          2               0                  12    1422.0  \n",
       "3                          2               0                  12    1057.0  \n",
       "4                         4+               0                   8    7969.0  "
      ]
     },
     "execution_count": 7,
     "metadata": {},
     "output_type": "execute_result"
    }
   ],
   "source": [
    "df1.head()"
   ]
  },
  {
   "cell_type": "markdown",
   "metadata": {},
   "source": [
    "### 1.整体销售状况统计\n",
    "- 销售总金额\n",
    "- 客单价\n",
    "- 件单价"
   ]
  },
  {
   "cell_type": "code",
   "execution_count": 8,
   "metadata": {},
   "outputs": [
    {
     "data": {
      "text/plain": [
       "5017668378.0"
      ]
     },
     "execution_count": 8,
     "metadata": {},
     "output_type": "execute_result"
    }
   ],
   "source": [
    "#销售总金额\n",
    "df1.Purchase.sum()"
   ]
  },
  {
   "cell_type": "code",
   "execution_count": 9,
   "metadata": {},
   "outputs": [
    {
     "data": {
      "text/plain": [
       "851751.5494822611"
      ]
     },
     "execution_count": 9,
     "metadata": {},
     "output_type": "execute_result"
    }
   ],
   "source": [
    "#客单价 = 销售总金额/用户数\n",
    "arpu = df1.Purchase.sum()/df1.User_ID.nunique()\n",
    "arpu"
   ]
  },
  {
   "cell_type": "code",
   "execution_count": 10,
   "metadata": {},
   "outputs": [
    {
     "data": {
      "text/plain": [
       "9333.859852635065"
      ]
     },
     "execution_count": 10,
     "metadata": {},
     "output_type": "execute_result"
    }
   ],
   "source": [
    "#件单价 = 销售总金额/订单数\n",
    "arpp = df1.Purchase.sum()/df1.Product_ID.count()\n",
    "arpp"
   ]
  },
  {
   "cell_type": "markdown",
   "metadata": {},
   "source": [
    "本次黑色星期五共有5891个用户购买了537577件产品，销售总金额50.18亿美元，客单价85.18万美元，件单价9334美元。"
   ]
  },
  {
   "cell_type": "markdown",
   "metadata": {},
   "source": [
    "### 2.不同产品销售表现\n",
    "- 产品销售金额分布图\n",
    "- 畅销商品\n",
    "- 畅销分类"
   ]
  },
  {
   "cell_type": "markdown",
   "metadata": {},
   "source": [
    "1）产品销售金额分布图"
   ]
  },
  {
   "cell_type": "code",
   "execution_count": 11,
   "metadata": {},
   "outputs": [
    {
     "data": {
      "text/html": [
       "<div>\n",
       "<style scoped>\n",
       "    .dataframe tbody tr th:only-of-type {\n",
       "        vertical-align: middle;\n",
       "    }\n",
       "\n",
       "    .dataframe tbody tr th {\n",
       "        vertical-align: top;\n",
       "    }\n",
       "\n",
       "    .dataframe thead th {\n",
       "        text-align: right;\n",
       "    }\n",
       "</style>\n",
       "<table border=\"1\" class=\"dataframe\">\n",
       "  <thead>\n",
       "    <tr style=\"text-align: right;\">\n",
       "      <th></th>\n",
       "      <th>Amount</th>\n",
       "      <th>Purchase</th>\n",
       "    </tr>\n",
       "  </thead>\n",
       "  <tbody>\n",
       "    <tr>\n",
       "      <th>count</th>\n",
       "      <td>3623.000000</td>\n",
       "      <td>3.623000e+03</td>\n",
       "    </tr>\n",
       "    <tr>\n",
       "      <th>mean</th>\n",
       "      <td>148.378968</td>\n",
       "      <td>1.384948e+06</td>\n",
       "    </tr>\n",
       "    <tr>\n",
       "      <th>std</th>\n",
       "      <td>208.176730</td>\n",
       "      <td>2.608237e+06</td>\n",
       "    </tr>\n",
       "    <tr>\n",
       "      <th>min</th>\n",
       "      <td>1.000000</td>\n",
       "      <td>4.050000e+02</td>\n",
       "    </tr>\n",
       "    <tr>\n",
       "      <th>25%</th>\n",
       "      <td>19.000000</td>\n",
       "      <td>1.143055e+05</td>\n",
       "    </tr>\n",
       "    <tr>\n",
       "      <th>50%</th>\n",
       "      <td>70.000000</td>\n",
       "      <td>4.352640e+05</td>\n",
       "    </tr>\n",
       "    <tr>\n",
       "      <th>75%</th>\n",
       "      <td>192.000000</td>\n",
       "      <td>1.503716e+06</td>\n",
       "    </tr>\n",
       "    <tr>\n",
       "      <th>max</th>\n",
       "      <td>1858.000000</td>\n",
       "      <td>2.753243e+07</td>\n",
       "    </tr>\n",
       "  </tbody>\n",
       "</table>\n",
       "</div>"
      ],
      "text/plain": [
       "            Amount      Purchase\n",
       "count  3623.000000  3.623000e+03\n",
       "mean    148.378968  1.384948e+06\n",
       "std     208.176730  2.608237e+06\n",
       "min       1.000000  4.050000e+02\n",
       "25%      19.000000  1.143055e+05\n",
       "50%      70.000000  4.352640e+05\n",
       "75%     192.000000  1.503716e+06\n",
       "max    1858.000000  2.753243e+07"
      ]
     },
     "execution_count": 11,
     "metadata": {},
     "output_type": "execute_result"
    }
   ],
   "source": [
    "grouped_products = df1.groupby('Product_ID').agg({'User_ID':'count','Purchase':'sum'})\n",
    "grouped_products.rename(columns={'User_ID':'Amount'}, inplace = True)\n",
    "grouped_products.describe()"
   ]
  },
  {
   "cell_type": "markdown",
   "metadata": {},
   "source": [
    "本次黑色星期五最畅销的产品售出了1858件，而售出最少的仅1件，中位数为70，售出均值为148，说明大多数产品销售并不理想。<br>\n",
    "产品销售均值为138.5万美元，中位数为43万美元，各产品的销售金额呈右偏分布，主要集中在0-150万元以下，其中销售额最多的产品累计售出2753万元。"
   ]
  },
  {
   "cell_type": "code",
   "execution_count": 12,
   "metadata": {},
   "outputs": [
    {
     "data": {
      "image/png": "[encoded data removed]",
      "text/plain": [
       "<Figure size 432x288 with 1 Axes>"
      ]
     },
     "metadata": {
      "needs_background": "light"
     },
     "output_type": "display_data"
    }
   ],
   "source": [
    "grouped_products['Purchase'].plot.hist(bins=20)\n",
    "plt.show()"
   ]
  },
  {
   "cell_type": "markdown",
   "metadata": {},
   "source": [
    "2）畅销商品分析"
   ]
  },
  {
   "cell_type": "code",
   "execution_count": 13,
   "metadata": {
    "scrolled": true
   },
   "outputs": [
    {
     "data": {
      "text/html": [
       "<div>\n",
       "<style scoped>\n",
       "    .dataframe tbody tr th:only-of-type {\n",
       "        vertical-align: middle;\n",
       "    }\n",
       "\n",
       "    .dataframe tbody tr th {\n",
       "        vertical-align: top;\n",
       "    }\n",
       "\n",
       "    .dataframe thead th {\n",
       "        text-align: right;\n",
       "    }\n",
       "</style>\n",
       "<table border=\"1\" class=\"dataframe\">\n",
       "  <thead>\n",
       "    <tr style=\"text-align: right;\">\n",
       "      <th></th>\n",
       "      <th>Amount</th>\n",
       "      <th>Purchase</th>\n",
       "    </tr>\n",
       "    <tr>\n",
       "      <th>Product_ID</th>\n",
       "      <th></th>\n",
       "      <th></th>\n",
       "    </tr>\n",
       "  </thead>\n",
       "  <tbody>\n",
       "    <tr>\n",
       "      <th>P00265242</th>\n",
       "      <td>1858</td>\n",
       "      <td>13983325.0</td>\n",
       "    </tr>\n",
       "    <tr>\n",
       "      <th>P00110742</th>\n",
       "      <td>1591</td>\n",
       "      <td>26382569.0</td>\n",
       "    </tr>\n",
       "    <tr>\n",
       "      <th>P00025442</th>\n",
       "      <td>1586</td>\n",
       "      <td>27532426.0</td>\n",
       "    </tr>\n",
       "    <tr>\n",
       "      <th>P00112142</th>\n",
       "      <td>1539</td>\n",
       "      <td>23882624.0</td>\n",
       "    </tr>\n",
       "    <tr>\n",
       "      <th>P00057642</th>\n",
       "      <td>1430</td>\n",
       "      <td>22493690.0</td>\n",
       "    </tr>\n",
       "    <tr>\n",
       "      <th>P00184942</th>\n",
       "      <td>1424</td>\n",
       "      <td>24060871.0</td>\n",
       "    </tr>\n",
       "    <tr>\n",
       "      <th>P00046742</th>\n",
       "      <td>1417</td>\n",
       "      <td>20869698.0</td>\n",
       "    </tr>\n",
       "    <tr>\n",
       "      <th>P00058042</th>\n",
       "      <td>1396</td>\n",
       "      <td>12029707.0</td>\n",
       "    </tr>\n",
       "    <tr>\n",
       "      <th>P00145042</th>\n",
       "      <td>1384</td>\n",
       "      <td>20089014.0</td>\n",
       "    </tr>\n",
       "    <tr>\n",
       "      <th>P00059442</th>\n",
       "      <td>1384</td>\n",
       "      <td>23948299.0</td>\n",
       "    </tr>\n",
       "    <tr>\n",
       "      <th>P00237542</th>\n",
       "      <td>1374</td>\n",
       "      <td>23096487.0</td>\n",
       "    </tr>\n",
       "    <tr>\n",
       "      <th>P00255842</th>\n",
       "      <td>1354</td>\n",
       "      <td>24652442.0</td>\n",
       "    </tr>\n",
       "    <tr>\n",
       "      <th>P00117942</th>\n",
       "      <td>1346</td>\n",
       "      <td>9396418.0</td>\n",
       "    </tr>\n",
       "    <tr>\n",
       "      <th>P00110942</th>\n",
       "      <td>1336</td>\n",
       "      <td>23232538.0</td>\n",
       "    </tr>\n",
       "    <tr>\n",
       "      <th>P00010742</th>\n",
       "      <td>1331</td>\n",
       "      <td>21865042.0</td>\n",
       "    </tr>\n",
       "    <tr>\n",
       "      <th>P00110842</th>\n",
       "      <td>1260</td>\n",
       "      <td>21023004.0</td>\n",
       "    </tr>\n",
       "    <tr>\n",
       "      <th>P00220442</th>\n",
       "      <td>1253</td>\n",
       "      <td>9062784.0</td>\n",
       "    </tr>\n",
       "    <tr>\n",
       "      <th>P00051442</th>\n",
       "      <td>1233</td>\n",
       "      <td>11029200.0</td>\n",
       "    </tr>\n",
       "    <tr>\n",
       "      <th>P00102642</th>\n",
       "      <td>1228</td>\n",
       "      <td>3427009.0</td>\n",
       "    </tr>\n",
       "    <tr>\n",
       "      <th>P00117442</th>\n",
       "      <td>1227</td>\n",
       "      <td>8541644.0</td>\n",
       "    </tr>\n",
       "    <tr>\n",
       "      <th>P00278642</th>\n",
       "      <td>1213</td>\n",
       "      <td>8803000.0</td>\n",
       "    </tr>\n",
       "    <tr>\n",
       "      <th>P00242742</th>\n",
       "      <td>1194</td>\n",
       "      <td>16065026.0</td>\n",
       "    </tr>\n",
       "    <tr>\n",
       "      <th>P00034742</th>\n",
       "      <td>1188</td>\n",
       "      <td>8570703.0</td>\n",
       "    </tr>\n",
       "    <tr>\n",
       "      <th>P00080342</th>\n",
       "      <td>1186</td>\n",
       "      <td>20842960.0</td>\n",
       "    </tr>\n",
       "    <tr>\n",
       "      <th>P00148642</th>\n",
       "      <td>1179</td>\n",
       "      <td>20381950.0</td>\n",
       "    </tr>\n",
       "    <tr>\n",
       "      <th>P00028842</th>\n",
       "      <td>1172</td>\n",
       "      <td>20634646.0</td>\n",
       "    </tr>\n",
       "    <tr>\n",
       "      <th>P00031042</th>\n",
       "      <td>1168</td>\n",
       "      <td>10570248.0</td>\n",
       "    </tr>\n",
       "    <tr>\n",
       "      <th>P00251242</th>\n",
       "      <td>1167</td>\n",
       "      <td>8008389.0</td>\n",
       "    </tr>\n",
       "    <tr>\n",
       "      <th>P00114942</th>\n",
       "      <td>1162</td>\n",
       "      <td>18942450.0</td>\n",
       "    </tr>\n",
       "    <tr>\n",
       "      <th>P00270942</th>\n",
       "      <td>1141</td>\n",
       "      <td>16363769.0</td>\n",
       "    </tr>\n",
       "    <tr>\n",
       "      <th>P00000142</th>\n",
       "      <td>1130</td>\n",
       "      <td>12592163.0</td>\n",
       "    </tr>\n",
       "    <tr>\n",
       "      <th>P00112542</th>\n",
       "      <td>1113</td>\n",
       "      <td>17847524.0</td>\n",
       "    </tr>\n",
       "    <tr>\n",
       "      <th>P00044442</th>\n",
       "      <td>1099</td>\n",
       "      <td>17441510.0</td>\n",
       "    </tr>\n",
       "    <tr>\n",
       "      <th>P00334242</th>\n",
       "      <td>1082</td>\n",
       "      <td>17230484.0</td>\n",
       "    </tr>\n",
       "    <tr>\n",
       "      <th>P00111142</th>\n",
       "      <td>1004</td>\n",
       "      <td>16140243.0</td>\n",
       "    </tr>\n",
       "    <tr>\n",
       "      <th>P00052842</th>\n",
       "      <td>968</td>\n",
       "      <td>19492434.0</td>\n",
       "    </tr>\n",
       "    <tr>\n",
       "      <th>P00277642</th>\n",
       "      <td>968</td>\n",
       "      <td>11582975.0</td>\n",
       "    </tr>\n",
       "    <tr>\n",
       "      <th>P00116842</th>\n",
       "      <td>966</td>\n",
       "      <td>12992640.0</td>\n",
       "    </tr>\n",
       "    <tr>\n",
       "      <th>P00295942</th>\n",
       "      <td>959</td>\n",
       "      <td>11779082.0</td>\n",
       "    </tr>\n",
       "    <tr>\n",
       "      <th>P00086442</th>\n",
       "      <td>956</td>\n",
       "      <td>7699059.0</td>\n",
       "    </tr>\n",
       "    <tr>\n",
       "      <th>P00258742</th>\n",
       "      <td>955</td>\n",
       "      <td>6683621.0</td>\n",
       "    </tr>\n",
       "    <tr>\n",
       "      <th>P00005042</th>\n",
       "      <td>955</td>\n",
       "      <td>17486938.0</td>\n",
       "    </tr>\n",
       "    <tr>\n",
       "      <th>P00003442</th>\n",
       "      <td>951</td>\n",
       "      <td>2585111.0</td>\n",
       "    </tr>\n",
       "    <tr>\n",
       "      <th>P00085942</th>\n",
       "      <td>945</td>\n",
       "      <td>13071817.0</td>\n",
       "    </tr>\n",
       "    <tr>\n",
       "      <th>P00110542</th>\n",
       "      <td>944</td>\n",
       "      <td>8255990.0</td>\n",
       "    </tr>\n",
       "    <tr>\n",
       "      <th>P00128942</th>\n",
       "      <td>926</td>\n",
       "      <td>14603678.0</td>\n",
       "    </tr>\n",
       "    <tr>\n",
       "      <th>P00216342</th>\n",
       "      <td>925</td>\n",
       "      <td>9625635.0</td>\n",
       "    </tr>\n",
       "    <tr>\n",
       "      <th>P00113242</th>\n",
       "      <td>921</td>\n",
       "      <td>15494499.0</td>\n",
       "    </tr>\n",
       "    <tr>\n",
       "      <th>P00073842</th>\n",
       "      <td>921</td>\n",
       "      <td>12527227.0</td>\n",
       "    </tr>\n",
       "    <tr>\n",
       "      <th>P00112442</th>\n",
       "      <td>906</td>\n",
       "      <td>15632165.0</td>\n",
       "    </tr>\n",
       "  </tbody>\n",
       "</table>\n",
       "</div>"
      ],
      "text/plain": [
       "            Amount    Purchase\n",
       "Product_ID                    \n",
       "P00265242     1858  13983325.0\n",
       "P00110742     1591  26382569.0\n",
       "P00025442     1586  27532426.0\n",
       "P00112142     1539  23882624.0\n",
       "P00057642     1430  22493690.0\n",
       "P00184942     1424  24060871.0\n",
       "P00046742     1417  20869698.0\n",
       "P00058042     1396  12029707.0\n",
       "P00145042     1384  20089014.0\n",
       "P00059442     1384  23948299.0\n",
       "P00237542     1374  23096487.0\n",
       "P00255842     1354  24652442.0\n",
       "P00117942     1346   9396418.0\n",
       "P00110942     1336  23232538.0\n",
       "P00010742     1331  21865042.0\n",
       "P00110842     1260  21023004.0\n",
       "P00220442     1253   9062784.0\n",
       "P00051442     1233  11029200.0\n",
       "P00102642     1228   3427009.0\n",
       "P00117442     1227   8541644.0\n",
       "P00278642     1213   8803000.0\n",
       "P00242742     1194  16065026.0\n",
       "P00034742     1188   8570703.0\n",
       "P00080342     1186  20842960.0\n",
       "P00148642     1179  20381950.0\n",
       "P00028842     1172  20634646.0\n",
       "P00031042     1168  10570248.0\n",
       "P00251242     1167   8008389.0\n",
       "P00114942     1162  18942450.0\n",
       "P00270942     1141  16363769.0\n",
       "P00000142     1130  12592163.0\n",
       "P00112542     1113  17847524.0\n",
       "P00044442     1099  17441510.0\n",
       "P00334242     1082  17230484.0\n",
       "P00111142     1004  16140243.0\n",
       "P00052842      968  19492434.0\n",
       "P00277642      968  11582975.0\n",
       "P00116842      966  12992640.0\n",
       "P00295942      959  11779082.0\n",
       "P00086442      956   7699059.0\n",
       "P00258742      955   6683621.0\n",
       "P00005042      955  17486938.0\n",
       "P00003442      951   2585111.0\n",
       "P00085942      945  13071817.0\n",
       "P00110542      944   8255990.0\n",
       "P00128942      926  14603678.0\n",
       "P00216342      925   9625635.0\n",
       "P00113242      921  15494499.0\n",
       "P00073842      921  12527227.0\n",
       "P00112442      906  15632165.0"
      ]
     },
     "execution_count": 13,
     "metadata": {},
     "output_type": "execute_result"
    }
   ],
   "source": [
    "#销售数量排名前50的产品\n",
    "rank_of_amount = grouped_products.sort_values(by = 'Amount',ascending=False)\n",
    "rank_of_amount[:50]"
   ]
  },
  {
   "cell_type": "code",
   "execution_count": 14,
   "metadata": {},
   "outputs": [
    {
     "data": {
      "text/html": [
       "<div>\n",
       "<style scoped>\n",
       "    .dataframe tbody tr th:only-of-type {\n",
       "        vertical-align: middle;\n",
       "    }\n",
       "\n",
       "    .dataframe tbody tr th {\n",
       "        vertical-align: top;\n",
       "    }\n",
       "\n",
       "    .dataframe thead th {\n",
       "        text-align: right;\n",
       "    }\n",
       "</style>\n",
       "<table border=\"1\" class=\"dataframe\">\n",
       "  <thead>\n",
       "    <tr style=\"text-align: right;\">\n",
       "      <th></th>\n",
       "      <th>Amount</th>\n",
       "      <th>Purchase</th>\n",
       "    </tr>\n",
       "    <tr>\n",
       "      <th>Product_ID</th>\n",
       "      <th></th>\n",
       "      <th></th>\n",
       "    </tr>\n",
       "  </thead>\n",
       "  <tbody>\n",
       "    <tr>\n",
       "      <th>P00025442</th>\n",
       "      <td>1586</td>\n",
       "      <td>27532426.0</td>\n",
       "    </tr>\n",
       "    <tr>\n",
       "      <th>P00110742</th>\n",
       "      <td>1591</td>\n",
       "      <td>26382569.0</td>\n",
       "    </tr>\n",
       "    <tr>\n",
       "      <th>P00255842</th>\n",
       "      <td>1354</td>\n",
       "      <td>24652442.0</td>\n",
       "    </tr>\n",
       "    <tr>\n",
       "      <th>P00184942</th>\n",
       "      <td>1424</td>\n",
       "      <td>24060871.0</td>\n",
       "    </tr>\n",
       "    <tr>\n",
       "      <th>P00059442</th>\n",
       "      <td>1384</td>\n",
       "      <td>23948299.0</td>\n",
       "    </tr>\n",
       "    <tr>\n",
       "      <th>P00112142</th>\n",
       "      <td>1539</td>\n",
       "      <td>23882624.0</td>\n",
       "    </tr>\n",
       "    <tr>\n",
       "      <th>P00110942</th>\n",
       "      <td>1336</td>\n",
       "      <td>23232538.0</td>\n",
       "    </tr>\n",
       "    <tr>\n",
       "      <th>P00237542</th>\n",
       "      <td>1374</td>\n",
       "      <td>23096487.0</td>\n",
       "    </tr>\n",
       "    <tr>\n",
       "      <th>P00057642</th>\n",
       "      <td>1430</td>\n",
       "      <td>22493690.0</td>\n",
       "    </tr>\n",
       "    <tr>\n",
       "      <th>P00010742</th>\n",
       "      <td>1331</td>\n",
       "      <td>21865042.0</td>\n",
       "    </tr>\n",
       "    <tr>\n",
       "      <th>P00110842</th>\n",
       "      <td>1260</td>\n",
       "      <td>21023004.0</td>\n",
       "    </tr>\n",
       "    <tr>\n",
       "      <th>P00046742</th>\n",
       "      <td>1417</td>\n",
       "      <td>20869698.0</td>\n",
       "    </tr>\n",
       "    <tr>\n",
       "      <th>P00080342</th>\n",
       "      <td>1186</td>\n",
       "      <td>20842960.0</td>\n",
       "    </tr>\n",
       "    <tr>\n",
       "      <th>P00028842</th>\n",
       "      <td>1172</td>\n",
       "      <td>20634646.0</td>\n",
       "    </tr>\n",
       "    <tr>\n",
       "      <th>P00148642</th>\n",
       "      <td>1179</td>\n",
       "      <td>20381950.0</td>\n",
       "    </tr>\n",
       "    <tr>\n",
       "      <th>P00145042</th>\n",
       "      <td>1384</td>\n",
       "      <td>20089014.0</td>\n",
       "    </tr>\n",
       "    <tr>\n",
       "      <th>P00052842</th>\n",
       "      <td>968</td>\n",
       "      <td>19492434.0</td>\n",
       "    </tr>\n",
       "    <tr>\n",
       "      <th>P00114942</th>\n",
       "      <td>1162</td>\n",
       "      <td>18942450.0</td>\n",
       "    </tr>\n",
       "    <tr>\n",
       "      <th>P00112542</th>\n",
       "      <td>1113</td>\n",
       "      <td>17847524.0</td>\n",
       "    </tr>\n",
       "    <tr>\n",
       "      <th>P00005042</th>\n",
       "      <td>955</td>\n",
       "      <td>17486938.0</td>\n",
       "    </tr>\n",
       "    <tr>\n",
       "      <th>P00044442</th>\n",
       "      <td>1099</td>\n",
       "      <td>17441510.0</td>\n",
       "    </tr>\n",
       "    <tr>\n",
       "      <th>P00334242</th>\n",
       "      <td>1082</td>\n",
       "      <td>17230484.0</td>\n",
       "    </tr>\n",
       "    <tr>\n",
       "      <th>P00270942</th>\n",
       "      <td>1141</td>\n",
       "      <td>16363769.0</td>\n",
       "    </tr>\n",
       "    <tr>\n",
       "      <th>P00111142</th>\n",
       "      <td>1004</td>\n",
       "      <td>16140243.0</td>\n",
       "    </tr>\n",
       "    <tr>\n",
       "      <th>P00242742</th>\n",
       "      <td>1194</td>\n",
       "      <td>16065026.0</td>\n",
       "    </tr>\n",
       "    <tr>\n",
       "      <th>P00112442</th>\n",
       "      <td>906</td>\n",
       "      <td>15632165.0</td>\n",
       "    </tr>\n",
       "    <tr>\n",
       "      <th>P00113242</th>\n",
       "      <td>921</td>\n",
       "      <td>15494499.0</td>\n",
       "    </tr>\n",
       "    <tr>\n",
       "      <th>P00128942</th>\n",
       "      <td>926</td>\n",
       "      <td>14603678.0</td>\n",
       "    </tr>\n",
       "    <tr>\n",
       "      <th>P00120042</th>\n",
       "      <td>892</td>\n",
       "      <td>14254199.0</td>\n",
       "    </tr>\n",
       "    <tr>\n",
       "      <th>P0097242</th>\n",
       "      <td>896</td>\n",
       "      <td>14249873.0</td>\n",
       "    </tr>\n",
       "    <tr>\n",
       "      <th>P00147942</th>\n",
       "      <td>894</td>\n",
       "      <td>14067912.0</td>\n",
       "    </tr>\n",
       "    <tr>\n",
       "      <th>P00265242</th>\n",
       "      <td>1858</td>\n",
       "      <td>13983325.0</td>\n",
       "    </tr>\n",
       "    <tr>\n",
       "      <th>P00071442</th>\n",
       "      <td>725</td>\n",
       "      <td>13730143.0</td>\n",
       "    </tr>\n",
       "    <tr>\n",
       "      <th>P00182142</th>\n",
       "      <td>891</td>\n",
       "      <td>13579882.0</td>\n",
       "    </tr>\n",
       "    <tr>\n",
       "      <th>P00085942</th>\n",
       "      <td>945</td>\n",
       "      <td>13071817.0</td>\n",
       "    </tr>\n",
       "    <tr>\n",
       "      <th>P00105142</th>\n",
       "      <td>905</td>\n",
       "      <td>12997466.0</td>\n",
       "    </tr>\n",
       "    <tr>\n",
       "      <th>P00116842</th>\n",
       "      <td>966</td>\n",
       "      <td>12992640.0</td>\n",
       "    </tr>\n",
       "    <tr>\n",
       "      <th>P00116142</th>\n",
       "      <td>627</td>\n",
       "      <td>12839872.0</td>\n",
       "    </tr>\n",
       "    <tr>\n",
       "      <th>P00000142</th>\n",
       "      <td>1130</td>\n",
       "      <td>12592163.0</td>\n",
       "    </tr>\n",
       "    <tr>\n",
       "      <th>P00073842</th>\n",
       "      <td>921</td>\n",
       "      <td>12527227.0</td>\n",
       "    </tr>\n",
       "    <tr>\n",
       "      <th>P00121342</th>\n",
       "      <td>749</td>\n",
       "      <td>12351788.0</td>\n",
       "    </tr>\n",
       "    <tr>\n",
       "      <th>P00058042</th>\n",
       "      <td>1396</td>\n",
       "      <td>12029707.0</td>\n",
       "    </tr>\n",
       "    <tr>\n",
       "      <th>P00355142</th>\n",
       "      <td>807</td>\n",
       "      <td>12004750.0</td>\n",
       "    </tr>\n",
       "    <tr>\n",
       "      <th>P00036842</th>\n",
       "      <td>865</td>\n",
       "      <td>11970269.0</td>\n",
       "    </tr>\n",
       "    <tr>\n",
       "      <th>P00295942</th>\n",
       "      <td>959</td>\n",
       "      <td>11779082.0</td>\n",
       "    </tr>\n",
       "    <tr>\n",
       "      <th>P00111742</th>\n",
       "      <td>679</td>\n",
       "      <td>11763620.0</td>\n",
       "    </tr>\n",
       "    <tr>\n",
       "      <th>P00277642</th>\n",
       "      <td>968</td>\n",
       "      <td>11582975.0</td>\n",
       "    </tr>\n",
       "    <tr>\n",
       "      <th>P00113142</th>\n",
       "      <td>747</td>\n",
       "      <td>11380499.0</td>\n",
       "    </tr>\n",
       "    <tr>\n",
       "      <th>P00085342</th>\n",
       "      <td>542</td>\n",
       "      <td>11378642.0</td>\n",
       "    </tr>\n",
       "    <tr>\n",
       "      <th>P00062842</th>\n",
       "      <td>838</td>\n",
       "      <td>11269793.0</td>\n",
       "    </tr>\n",
       "  </tbody>\n",
       "</table>\n",
       "</div>"
      ],
      "text/plain": [
       "            Amount    Purchase\n",
       "Product_ID                    \n",
       "P00025442     1586  27532426.0\n",
       "P00110742     1591  26382569.0\n",
       "P00255842     1354  24652442.0\n",
       "P00184942     1424  24060871.0\n",
       "P00059442     1384  23948299.0\n",
       "P00112142     1539  23882624.0\n",
       "P00110942     1336  23232538.0\n",
       "P00237542     1374  23096487.0\n",
       "P00057642     1430  22493690.0\n",
       "P00010742     1331  21865042.0\n",
       "P00110842     1260  21023004.0\n",
       "P00046742     1417  20869698.0\n",
       "P00080342     1186  20842960.0\n",
       "P00028842     1172  20634646.0\n",
       "P00148642     1179  20381950.0\n",
       "P00145042     1384  20089014.0\n",
       "P00052842      968  19492434.0\n",
       "P00114942     1162  18942450.0\n",
       "P00112542     1113  17847524.0\n",
       "P00005042      955  17486938.0\n",
       "P00044442     1099  17441510.0\n",
       "P00334242     1082  17230484.0\n",
       "P00270942     1141  16363769.0\n",
       "P00111142     1004  16140243.0\n",
       "P00242742     1194  16065026.0\n",
       "P00112442      906  15632165.0\n",
       "P00113242      921  15494499.0\n",
       "P00128942      926  14603678.0\n",
       "P00120042      892  14254199.0\n",
       "P0097242       896  14249873.0\n",
       "P00147942      894  14067912.0\n",
       "P00265242     1858  13983325.0\n",
       "P00071442      725  13730143.0\n",
       "P00182142      891  13579882.0\n",
       "P00085942      945  13071817.0\n",
       "P00105142      905  12997466.0\n",
       "P00116842      966  12992640.0\n",
       "P00116142      627  12839872.0\n",
       "P00000142     1130  12592163.0\n",
       "P00073842      921  12527227.0\n",
       "P00121342      749  12351788.0\n",
       "P00058042     1396  12029707.0\n",
       "P00355142      807  12004750.0\n",
       "P00036842      865  11970269.0\n",
       "P00295942      959  11779082.0\n",
       "P00111742      679  11763620.0\n",
       "P00277642      968  11582975.0\n",
       "P00113142      747  11380499.0\n",
       "P00085342      542  11378642.0\n",
       "P00062842      838  11269793.0"
      ]
     },
     "execution_count": 14,
     "metadata": {},
     "output_type": "execute_result"
    }
   ],
   "source": [
    "#销售额排名前50的产品\n",
    "rank_of_purchase = grouped_products.sort_values(by = 'Purchase',ascending=False)\n",
    "rank_of_purchase[:50]"
   ]
  },
  {
   "cell_type": "markdown",
   "metadata": {},
   "source": [
    "3）畅销产品分类分析"
   ]
  },
  {
   "cell_type": "code",
   "execution_count": 15,
   "metadata": {
    "scrolled": true
   },
   "outputs": [
    {
     "data": {
      "image/png": "[encoded data removed]",
      "text/plain": [
       "<Figure size 432x288 with 1 Axes>"
      ]
     },
     "metadata": {
      "needs_background": "light"
     },
     "output_type": "display_data"
    }
   ],
   "source": [
    "#各产品分类销售数量统计\n",
    "df1['Product_Category_1'].value_counts().plot.bar()\n",
    "plt.xticks(rotation = 0)\n",
    "plt.show()"
   ]
  },
  {
   "cell_type": "markdown",
   "metadata": {},
   "source": [
    "本次黑色星期五用户主要购买了编号5、1、8类产品，这三类产品销量占到了总销量的75%"
   ]
  },
  {
   "cell_type": "code",
   "execution_count": 16,
   "metadata": {},
   "outputs": [
    {
     "data": {
      "image/png": "[encoded data removed]",
      "text/plain": [
       "<Figure size 432x288 with 1 Axes>"
      ]
     },
     "metadata": {
      "needs_background": "light"
     },
     "output_type": "display_data"
    }
   ],
   "source": [
    "#各产品分类销售额统计\n",
    "df1.groupby('Product_Category_1')['Purchase'].sum().plot.bar()\n",
    "plt.xticks(rotation = 0)\n",
    "plt.show()"
   ]
  },
  {
   "cell_type": "markdown",
   "metadata": {},
   "source": [
    "产品分类销售额最多的同样也是编号1、5、8类产品，这三类产品销售额占到了总销售的75%左右"
   ]
  },
  {
   "cell_type": "markdown",
   "metadata": {},
   "source": [
    "### 3.用户画像分析\n",
    "- 用户总体消费情况\n",
    "- 性别占比\n",
    "- 年龄特征\n",
    "- 婚姻状况\n",
    "- 职业分布"
   ]
  },
  {
   "cell_type": "markdown",
   "metadata": {},
   "source": [
    "1）用户总体消费情况"
   ]
  },
  {
   "cell_type": "code",
   "execution_count": 17,
   "metadata": {},
   "outputs": [
    {
     "data": {
      "text/plain": [
       "count    5.891000e+03\n",
       "mean     8.517515e+05\n",
       "std      9.329978e+05\n",
       "min      4.410800e+04\n",
       "25%      2.349140e+05\n",
       "50%      5.126120e+05\n",
       "75%      1.099005e+06\n",
       "max      1.053678e+07\n",
       "Name: Purchase, dtype: float64"
      ]
     },
     "execution_count": 17,
     "metadata": {},
     "output_type": "execute_result"
    }
   ],
   "source": [
    "grouped_user = df1.groupby('User_ID')['Purchase'].sum()\n",
    "grouped_user.describe()"
   ]
  },
  {
   "cell_type": "markdown",
   "metadata": {},
   "source": [
    "本次黑色星期五5891个用户，平均消费85万美元，而中位数为51万美元，说明大多数用户消费金额在100万元以下，有少部分顾客在本次血拼中付出昂贵的代价，购买最多的用户购买了总计1053.7万美元的商品。"
   ]
  },
  {
   "cell_type": "code",
   "execution_count": 18,
   "metadata": {},
   "outputs": [
    {
     "data": {
      "image/png": "[encoded data removed]",
      "text/plain": [
       "<Figure size 432x288 with 1 Axes>"
      ]
     },
     "metadata": {
      "needs_background": "light"
     },
     "output_type": "display_data"
    }
   ],
   "source": [
    "grouped_products['Purchase'].plot.hist(bins=20)\n",
    "plt.show()"
   ]
  },
  {
   "cell_type": "markdown",
   "metadata": {},
   "source": [
    "2）性别占比"
   ]
  },
  {
   "cell_type": "code",
   "execution_count": 19,
   "metadata": {},
   "outputs": [
    {
     "data": {
      "image/png": "[encoded data removed]",
      "text/plain": [
       "<Figure size 720x288 with 2 Axes>"
      ]
     },
     "metadata": {
      "needs_background": "light"
     },
     "output_type": "display_data"
    }
   ],
   "source": [
    "#按照性别分组，计算男女用户消费总金额和人均消费\n",
    "grouped_gender_sum = df1.groupby('Gender')['Purchase'].sum()\n",
    "grouped_gender_mean = df1.groupby('Gender')['Purchase'].mean()\n",
    "plt.figure(1,figsize =(10,4))\n",
    "\n",
    "plt.subplot(121)\n",
    "sns.barplot(x=grouped_gender_sum.index,y=grouped_gender_sum.values)\n",
    "plt.title('Purchase Total of Gender')\n",
    "plt.ylabel('Puchase')\n",
    "\n",
    "plt.subplot(122)\n",
    "sns.barplot(x=grouped_gender_mean.index,y=grouped_gender_mean.values)\n",
    "plt.title('Purchase Mean of Gender')\n",
    "plt.ylabel('Purchase')\n",
    "\n",
    "plt.show()"
   ]
  },
  {
   "cell_type": "markdown",
   "metadata": {},
   "source": [
    "从上图中可以看出，对于消费总金额而言，男性是消费主力，是女性消费的3倍左右。但从人均消费来看，则不相伯仲，也可以推断出本次黑色星期五是由男性拉动消费，男性用户占到绝对优势（下面可以证实该推断，男性用户占比71.7%）。"
   ]
  },
  {
   "cell_type": "code",
   "execution_count": 20,
   "metadata": {},
   "outputs": [],
   "source": [
    "#为了便于统计用户特征数量，将User_ID唯一\n",
    "df2 = df1.drop_duplicates('User_ID')"
   ]
  },
  {
   "cell_type": "code",
   "execution_count": 21,
   "metadata": {},
   "outputs": [
    {
     "data": {
      "image/png": "[encoded data removed]",
      "text/plain": [
       "<Figure size 288x288 with 1 Axes>"
      ]
     },
     "metadata": {},
     "output_type": "display_data"
    }
   ],
   "source": [
    "#购买用户性别构成\n",
    "grouped_gender_count = df2.groupby('Gender')['User_ID'].count()\n",
    "plt.figure(1,figsize=(4,4))\n",
    "plt.title('Gender Ratio')\n",
    "explode=(0.1,0)\n",
    "plt.pie(grouped_gender_count,labels=grouped_gender_count.index,autopct='%1.1f%%',textprops = {'fontsize':10,'color':'k'},\n",
    "        explode=explode,startangle=90,pctdistance = 0.5,counterclock = False)\n",
    "plt.axis('equal')\n",
    "plt.show()"
   ]
  },
  {
   "cell_type": "markdown",
   "metadata": {},
   "source": [
    "3）年龄特征"
   ]
  },
  {
   "cell_type": "code",
   "execution_count": 22,
   "metadata": {},
   "outputs": [
    {
     "data": {
      "text/plain": [
       "Age\n",
       "0-17      218\n",
       "18-25    1069\n",
       "26-35    2053\n",
       "36-45    1167\n",
       "46-50     531\n",
       "51-55     481\n",
       "55+       372\n",
       "Name: User_ID, dtype: int64"
      ]
     },
     "execution_count": 22,
     "metadata": {},
     "output_type": "execute_result"
    }
   ],
   "source": [
    "##按照年龄分组，计算各年龄段用户数\n",
    "grouped_age_count = df2.groupby('Age')['User_ID'].count()\n",
    "grouped_age_count"
   ]
  },
  {
   "cell_type": "code",
   "execution_count": 23,
   "metadata": {},
   "outputs": [
    {
     "data": {
      "image/png": "[encoded data removed]",
      "text/plain": [
       "<Figure size 432x288 with 1 Axes>"
      ]
     },
     "metadata": {
      "needs_background": "light"
     },
     "output_type": "display_data"
    }
   ],
   "source": [
    "#按照年龄和性别分组，计算各年龄段内的用户数及性别构成\n",
    "df2.groupby(['Gender','Age'])['User_ID'].count().unstack(level = 'Gender').plot.bar()\n",
    "plt.title('Age Count')\n",
    "plt.xticks(rotation = 0)\n",
    "plt.ylabel('Count')\n",
    "plt.show()"
   ]
  },
  {
   "cell_type": "code",
   "execution_count": 24,
   "metadata": {},
   "outputs": [
    {
     "data": {
      "image/png": "[encoded data removed]",
      "text/plain": [
       "<Figure size 432x288 with 1 Axes>"
      ]
     },
     "metadata": {
      "needs_background": "light"
     },
     "output_type": "display_data"
    }
   ],
   "source": [
    "#按照年龄和性别分组，计算各年龄段内消费金额\n",
    "df1.groupby(['Gender','Age'])['Purchase'].sum().unstack(level = 'Gender').plot(kind = 'bar')\n",
    "plt.title('Purchase of Age')\n",
    "plt.xticks(rotation = 0)\n",
    "plt.ylabel('Total purchase')\n",
    "plt.show()"
   ]
  },
  {
   "cell_type": "markdown",
   "metadata": {},
   "source": [
    "上图可见，本次活动用户年龄主要集中在18-45岁之间，其中26-35用户数量占到35%左右，消费金额占总销售额的40%，可见这个年龄段是本次活动的主力军。而不管在哪个年龄阶段，男性用户数、消费金额都要比女性多。"
   ]
  },
  {
   "cell_type": "markdown",
   "metadata": {},
   "source": [
    "4）婚姻状况"
   ]
  },
  {
   "cell_type": "code",
   "execution_count": 25,
   "metadata": {},
   "outputs": [
    {
     "data": {
      "text/plain": [
       "Text(0, 0.5, 'Purchase')"
      ]
     },
     "execution_count": 25,
     "metadata": {},
     "output_type": "execute_result"
    },
    {
     "data": {
      "image/png": "[encoded data removed]",
      "text/plain": [
       "<Figure size 720x288 with 2 Axes>"
      ]
     },
     "metadata": {
      "needs_background": "light"
     },
     "output_type": "display_data"
    }
   ],
   "source": [
    "#按照婚姻状况分组，计算已婚未婚用户数及人均消费金额\n",
    "grouped_mar_count = df2.groupby('Marital_Status')['User_ID'].count()\n",
    "grouped_mar_mean = df1.groupby('Marital_Status')['Purchase'].mean()\n",
    "plt.figure(1,figsize =(10,4))\n",
    "plt.subplot(121)\n",
    "plt.title('Marital_Status')\n",
    "index_ls = ['single','married']\n",
    "plt.ylabel('Count')\n",
    "sns.barplot(x=index_ls,y=grouped_mar_count.values)\n",
    "plt.subplot(122)\n",
    "sns.barplot(x=grouped_mar_mean.index,y=grouped_mar_mean.values)\n",
    "index_ls = ['single','married']\n",
    "plt.xticks(grouped_mar_mean.index,index_ls)\n",
    "plt.title('Purchase Mean')\n",
    "plt.ylabel('Purchase')\n"
   ]
  },
  {
   "cell_type": "markdown",
   "metadata": {},
   "source": [
    "未婚用户在本次活动中占比大于已婚，但是未婚和已婚在人均消费情况下基本一致，可见婚姻状态对消费金额影响不是很大。"
   ]
  },
  {
   "cell_type": "markdown",
   "metadata": {},
   "source": [
    "5）职业分布"
   ]
  },
  {
   "cell_type": "code",
   "execution_count": 26,
   "metadata": {},
   "outputs": [
    {
     "data": {
      "image/png": "[encoded data removed]",
      "text/plain": [
       "<Figure size 1080x288 with 2 Axes>"
      ]
     },
     "metadata": {
      "needs_background": "light"
     },
     "output_type": "display_data"
    }
   ],
   "source": [
    "#按照职业分组，计算各职业用户数及人均消费金额\n",
    "grouped_occ_count = df2.groupby('Occupation')['User_ID'].count()\n",
    "grouped_occ_mean = df1.groupby('Occupation')['Purchase'].mean()\n",
    "\n",
    "plt.figure(1,figsize =(15,4))\n",
    "plt.subplot(121)\n",
    "plt.title('Occupation Distribution')\n",
    "sns.barplot(x=grouped_occ_count.index,y=grouped_occ_count.values)\n",
    "\n",
    "plt.subplot(122)\n",
    "plt.title('Occupation Purchase Mean')\n",
    "sns.barplot(x=grouped_occ_mean.index,y=grouped_occ_mean.values)\n",
    "plt.show()"
   ]
  },
  {
   "cell_type": "markdown",
   "metadata": {},
   "source": [
    "可以看出，编号0，4，7这三个职业用户人数是最多的，但从平均购买金额上看，编号12，17，15是消费能力最强的三个职业。"
   ]
  },
  {
   "cell_type": "code",
   "execution_count": 27,
   "metadata": {},
   "outputs": [
    {
     "data": {
      "image/png": "[encoded data removed]",
      "text/plain": [
       "<Figure size 432x288 with 1 Axes>"
      ]
     },
     "metadata": {
      "needs_background": "light"
     },
     "output_type": "display_data"
    },
    {
     "data": {
      "image/png": "[encoded data removed]",
      "text/plain": [
       "<Figure size 432x288 with 1 Axes>"
      ]
     },
     "metadata": {
      "needs_background": "light"
     },
     "output_type": "display_data"
    }
   ],
   "source": [
    "#不同职业年龄段分布\n",
    "df2.groupby(['Occupation','Age'])['User_ID'].count().unstack(level = 'Age').plot(kind = 'bar')\n",
    "plt.xticks(rotation = 0)\n",
    "#不同职业性别比例\n",
    "df2.groupby(['Occupation','Gender'])['User_ID'].count().unstack(level = 'Gender').plot.bar(stacked=True)\n",
    "plt.xticks(rotation = 0)\n",
    "plt.show()"
   ]
  },
  {
   "cell_type": "markdown",
   "metadata": {},
   "source": [
    "只有职业编号9，女性用户数是碾压男性，其余均没有大的变化，可以猜测该职业的性别构成，并做重点营销等。"
   ]
  },
  {
   "cell_type": "markdown",
   "metadata": {},
   "source": [
    "### 4.城市业绩分析\n",
    "- 城市销售情况分析\n",
    "- 各级城市用户画像对比"
   ]
  },
  {
   "cell_type": "markdown",
   "metadata": {},
   "source": [
    "1）城市销售情况分析"
   ]
  },
  {
   "cell_type": "code",
   "execution_count": 28,
   "metadata": {},
   "outputs": [
    {
     "data": {
      "image/png": "[encoded data removed]",
      "text/plain": [
       "<Figure size 1152x720 with 4 Axes>"
      ]
     },
     "metadata": {
      "needs_background": "light"
     },
     "output_type": "display_data"
    }
   ],
   "source": [
    "#按照城市级别分组，计算各级别城市的销售总金额、用户数、用户平均购买金额、产品销售数量\n",
    "grouped_city_pruchase_sum = df1.groupby('City_Category')['Purchase'].sum()\n",
    "grouped_city_user_count = df2. groupby('City_Category')['User_ID'].count()\n",
    "grouped_city_pruchase_mean = grouped_city_pruchase_sum/grouped_city_user_count\n",
    "grouped_city_product_count = df1.groupby('City_Category')['Product_ID'].count()\n",
    "#绘制柱形图\n",
    "plt.figure(1,figsize=(16,10))\n",
    "plt.subplot(221)\n",
    "plt.title('City total purchase')\n",
    "plt.xticks(rotation = 0)\n",
    "plt.ylabel(\"Total purchase\")\n",
    "sns.barplot(x=grouped_city_pruchase_sum.index,y=grouped_city_pruchase_sum.values)\n",
    "\n",
    "plt.subplot(222)\n",
    "plt.title('City user amount')\n",
    "plt.xticks(rotation = 0)\n",
    "plt.ylabel(\"user count\")\n",
    "sns.barplot(x=grouped_city_user_count.index,y=grouped_city_user_count.values)\n",
    "\n",
    "plt.subplot(223)\n",
    "plt.title('City mean purchase')\n",
    "plt.xticks(rotation = 0)\n",
    "plt.ylabel(\"Mean purchase\")\n",
    "sns.barplot(x=grouped_city_pruchase_mean.index,y=grouped_city_pruchase_mean.values)\n",
    "\n",
    "plt.subplot(224)\n",
    "plt.title('City product amount')\n",
    "plt.xticks(rotation = 0)\n",
    "plt.ylabel(\"product count\")\n",
    "sns.barplot(x=grouped_city_product_count.index,y=grouped_city_product_count.values)\n",
    "\n",
    "plt.show()"
   ]
  },
  {
   "cell_type": "markdown",
   "metadata": {},
   "source": [
    "可以看出B级城市凭借着不到30%的用户数贡献了最多的销售额，购买的产品数量最多，说明B级城市的购买力强，用户需求旺盛。\n",
    "A级城市购买力最强，比B级城市略高，但用户数较少，属于高端消费者，可以挖掘A级城市的用户。\n",
    "而C级城市虽然占据了一半以上的用户数，但购买力较弱，平均消费较低，购买猜测C级城市人均收入不高。C级城市用户购买的产品数量占三分之一左右，也从 侧面印证了该级城市的用户购买的基本属于单价较低的产品。可以选择大型促销刺激购买。"
   ]
  },
  {
   "cell_type": "markdown",
   "metadata": {},
   "source": [
    "2）各级城市用户画像对比"
   ]
  },
  {
   "cell_type": "code",
   "execution_count": 29,
   "metadata": {},
   "outputs": [
    {
     "data": {
      "image/png": "[encoded data removed]",
      "text/plain": [
       "<Figure size 432x288 with 1 Axes>"
      ]
     },
     "metadata": {
      "needs_background": "light"
     },
     "output_type": "display_data"
    },
    {
     "data": {
      "image/png": "[encoded data removed]",
      "text/plain": [
       "<Figure size 432x288 with 1 Axes>"
      ]
     },
     "metadata": {
      "needs_background": "light"
     },
     "output_type": "display_data"
    },
    {
     "data": {
      "image/png": "[encoded data removed]",
      "text/plain": [
       "<Figure size 432x288 with 1 Axes>"
      ]
     },
     "metadata": {
      "needs_background": "light"
     },
     "output_type": "display_data"
    }
   ],
   "source": [
    "#各级城市用户性别、年龄、职业分布\n",
    "df2.groupby(['City_Category','Gender'])['User_ID'].count().plot.bar()\n",
    "plt.xticks(rotation = 0)\n",
    "plt.ylabel(\"count\")\n",
    "df2.groupby(['City_Category','Age'])['User_ID'].count().unstack(level = 'Age').plot.bar()\n",
    "plt.xticks(rotation = 0)\n",
    "plt.ylabel(\"count\")\n",
    "df2.groupby(['Occupation','City_Category'])['User_ID'].count().unstack(level = 'City_Category').plot.bar()\n",
    "plt.xticks(rotation = 0)\n",
    "plt.ylabel(\"count\")\n",
    "plt.show()"
   ]
  },
  {
   "cell_type": "markdown",
   "metadata": {},
   "source": [
    "从上面三幅图来看，各级城市的性别分布、年龄分布、职业分布没有太大变化。用户均是男性占主力；年龄以26-35岁占优，主要集中在18-45岁之间；职业编号4，0，7用户人数最多，唯一的区别是c级城市职业编号为7的用户数最多。"
   ]
  },
  {
   "cell_type": "code",
   "execution_count": 30,
   "metadata": {},
   "outputs": [
    {
     "data": {
      "image/png": "[encoded data removed]",
      "text/plain": [
       "<Figure size 432x288 with 1 Axes>"
      ]
     },
     "metadata": {
      "needs_background": "light"
     },
     "output_type": "display_data"
    }
   ],
   "source": [
    "#各级城市不同居住年限用户分布\n",
    "df2.groupby(['City_Category','Stay_In_Current_City_Years'])['User_ID'].count().unstack(level = 'Stay_In_Current_City_Years').plot.bar()\n",
    "plt.xticks(rotation = 0)\n",
    "plt.ylabel(\"count\")\n",
    "plt.show()\n"
   ]
  },
  {
   "cell_type": "markdown",
   "metadata": {},
   "source": [
    "各城市用户的居住年限呈现相同分布，居住年限为1的用户为主力用户，居住年限为0的用户最少。"
   ]
  },
  {
   "cell_type": "markdown",
   "metadata": {},
   "source": [
    "### 总结"
   ]
  },
  {
   "cell_type": "markdown",
   "metadata": {},
   "source": [
    "1、在本次黑色星期五的促销活动中，购买用户数共计5891人，总销售额为50.17亿美元，客单价为85.18美元，件单价为9333.86美元。<br>\n",
    "2、本次黑色星期五最畅销产品是“P00265242”，最畅销类目1依次是5、1、8。建议根据畅销产品、畅销分类调整产品结构。<br>\n",
    "3、就用户的性别、年龄段、职业、居住年限与消费额的关系而言，本次黑色星期五的消费群体主要是男性，年龄段在26岁到35岁之间，高消费群体的职业主要集中在4、0、7这三个职业编号上，居住年限为1年。<br>\n",
    "4、就城市级别而言，B级城市用户是本次黑色星期五的主力军。城市A、B高端消费者比较多，人群消费能力强。城市C属于大众市场，客单价不高，可以将目标定在提高销量上。各城市级别用户画像与总体相差不大。<br>"
   ]
  },
  {
   "cell_type": "code",
   "execution_count": null,
   "metadata": {},
   "outputs": [],
   "source": []
  }
 ],
 "metadata": {
  "kernelspec": {
   "display_name": "Python 3",
   "language": "python",
   "name": "python3"
  },
  "language_info": {
   "codemirror_mode": {
    "name": "ipython",
    "version": 3
   },
   "file_extension": ".py",
   "mimetype": "text/x-python",
   "name": "python",
   "nbconvert_exporter": "python",
   "pygments_lexer": "ipython3",
   "version": "3.7.1"
  }
 },
 "nbformat": 4,
 "nbformat_minor": 2
}
